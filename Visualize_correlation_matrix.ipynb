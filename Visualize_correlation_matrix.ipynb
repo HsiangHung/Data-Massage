{
 "cells": [
  {
   "cell_type": "code",
   "execution_count": 1,
   "metadata": {
    "collapsed": false
   },
   "outputs": [
    {
     "data": {
      "image/png": "[encoded data removed]",
      "text/plain": [
       "<matplotlib.figure.Figure at 0x10488ee10>"
      ]
     },
     "metadata": {},
     "output_type": "display_data"
    }
   ],
   "source": [
    "from numpy import corrcoef, sum, log, arange\n",
    "from numpy.random import rand\n",
    "from pylab import pcolor, show, colorbar, xticks, yticks\n",
    "\n",
    "# generating some uncorrelated data\n",
    "data = rand(10,100) # each row of represents a variable\n",
    "\n",
    "# creating correlation between the variables\n",
    "# variable 2 is correlated with all the other variables\n",
    "data[2,:] = sum(data,0)\n",
    "# variable 4 is correlated with variable 8\n",
    "data[4,:] = log(data[8,:])*0.8\n",
    "\n",
    "# plotting the correlation matrix\n",
    "R = corrcoef(data)\n",
    "pcolor(R)\n",
    "colorbar()\n",
    "yticks(arange(0.5,10.5),range(0,10))\n",
    "xticks(arange(0.5,10.5),range(0,10))\n",
    "show()"
   ]
  },
  {
   "cell_type": "code",
   "execution_count": null,
   "metadata": {
    "collapsed": true
   },
   "outputs": [],
   "source": []
  }
 ],
 "metadata": {
  "kernelspec": {
   "display_name": "Python 3",
   "language": "python",
   "name": "python3"
  },
  "language_info": {
   "codemirror_mode": {
    "name": "ipython",
    "version": 3
   },
   "file_extension": ".py",
   "mimetype": "text/x-python",
   "name": "python",
   "nbconvert_exporter": "python",
   "pygments_lexer": "ipython3",
   "version": "3.5.2"
  }
 },
 "nbformat": 4,
 "nbformat_minor": 0
}
